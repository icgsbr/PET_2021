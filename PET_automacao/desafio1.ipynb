{
 "cells": [
  {
   "cell_type": "markdown",
   "metadata": {},
   "source": [
    "# Cotações Atualizadas a cada 30min"
   ]
  },
  {
   "cell_type": "code",
   "execution_count": 1,
   "metadata": {},
   "outputs": [
    {
     "name": "stdout",
     "output_type": "stream",
     "text": [
      "Cotação Atualizada. 2021-10-09 13:03:17.976785\n",
      "Cotação Atualizada. 2021-10-09 13:03:38.268784\n"
     ]
    },
    {
     "ename": "KeyboardInterrupt",
     "evalue": "",
     "output_type": "error",
     "traceback": [
      "\u001b[1;31m---------------------------------------------------------------------------\u001b[0m",
      "\u001b[1;31mKeyboardInterrupt\u001b[0m                         Traceback (most recent call last)",
      "\u001b[1;32m<ipython-input-1-43c869e6f543>\u001b[0m in \u001b[0;36m<module>\u001b[1;34m\u001b[0m\n\u001b[0;32m     31\u001b[0m \u001b[1;33m\u001b[0m\u001b[0m\n\u001b[0;32m     32\u001b[0m     \u001b[1;31m# Tempo de execução do código\u001b[0m\u001b[1;33m\u001b[0m\u001b[1;33m\u001b[0m\u001b[1;33m\u001b[0m\u001b[0m\n\u001b[1;32m---> 33\u001b[1;33m     \u001b[0mtime\u001b[0m\u001b[1;33m.\u001b[0m\u001b[0msleep\u001b[0m\u001b[1;33m(\u001b[0m\u001b[1;36m20\u001b[0m\u001b[1;33m)\u001b[0m\u001b[1;33m\u001b[0m\u001b[1;33m\u001b[0m\u001b[0m\n\u001b[0m",
      "\u001b[1;31mKeyboardInterrupt\u001b[0m: "
     ]
    }
   ],
   "source": [
    "# Bibliotecas utilizadas\n",
    "import requests\n",
    "import pandas as pd\n",
    "from datetime import datetime\n",
    "import time\n",
    "\n",
    "while True:\n",
    "    # Requisição para a api\n",
    "    requisicao = requests.get(\"https://economia.awesomeapi.com.br/last/USD-BRL,EUR-BRL,BTC-BRL,ETH-BRL,DOGE-BRL\")\n",
    "    requisicao_dic = requisicao.json()\n",
    "\n",
    "    # Cotações\n",
    "    cot_usd = requisicao_dic[\"USDBRL\"][\"bid\"]\n",
    "    cot_eur = requisicao_dic[\"EURBRL\"][\"bid\"]\n",
    "    cot_btc = requisicao_dic[\"BTCBRL\"][\"bid\"]\n",
    "    cot_eth = requisicao_dic[\"ETHBRL\"][\"bid\"]\n",
    "    cot_doge = requisicao_dic[\"DOGEBRL\"][\"bid\"]\n",
    "\n",
    "    # Atualização de planilha\n",
    "    planilha = pd.read_excel(\"Cotações.xlsx\")\n",
    "    planilha.loc[0, \"Cotação\"] = float(cot_usd)\n",
    "    planilha.loc[1, \"Cotação\"] = float(cot_eur)\n",
    "    planilha.loc[2, \"Cotação\"] = float(cot_btc)\n",
    "    planilha.loc[3, \"Cotação\"] = float(cot_eth)\n",
    "    planilha.loc[4, \"Cotação\"] = float(cot_doge)\n",
    "    planilha.loc[0, \"Data Última Atualização\"] = datetime.now()\n",
    "\n",
    "    # Subir atualização\n",
    "    planilha.to_excel(\"cotacoes.xlsx\", index=False)\n",
    "    print(f\"Cotação Atualizada. {datetime.now()}\")\n",
    "\n",
    "    # Tempo de execução do código\n",
    "    time.sleep(60 * 30)"
   ]
  }
 ],
 "metadata": {
  "interpreter": {
   "hash": "cc5f70855ac006f3de45a3cc3b9e7d8d53845e50458809cb162b0174266dec97"
  },
  "kernelspec": {
   "display_name": "Python 3.8.8 64-bit ('base': conda)",
   "name": "python3"
  },
  "language_info": {
   "codemirror_mode": {
    "name": "ipython",
    "version": 3
   },
   "file_extension": ".py",
   "mimetype": "text/x-python",
   "name": "python",
   "nbconvert_exporter": "python",
   "pygments_lexer": "ipython3",
   "version": "3.8.8"
  },
  "orig_nbformat": 4
 },
 "nbformat": 4,
 "nbformat_minor": 2
}
