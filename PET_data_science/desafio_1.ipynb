{
 "cells": [
  {
   "cell_type": "markdown",
   "id": "52255f18",
   "metadata": {},
   "source": [
    "# Desafio 1 de Data Analysis - Igor Costa Gomes Souza"
   ]
  },
  {
   "cell_type": "markdown",
   "id": "9547f8b4",
   "metadata": {},
   "source": [
    "## Bibliotecas utilizadas"
   ]
  },
  {
   "cell_type": "code",
   "execution_count": 2,
   "id": "eba2ed39",
   "metadata": {},
   "outputs": [],
   "source": [
    "import pandas as pd\n",
    "import numpy as np\n",
    "import matplotlib.pyplot as plt\n",
    "import seaborn as sns"
   ]
  },
  {
   "cell_type": "markdown",
   "id": "417ddb17",
   "metadata": {},
   "source": [
    "## Tabela Geral"
   ]
  },
  {
   "cell_type": "code",
   "execution_count": 4,
   "id": "7c4de8fa",
   "metadata": {},
   "outputs": [
    {
     "data": {
      "text/html": [
       "<div>\n",
       "<style scoped>\n",
       "    .dataframe tbody tr th:only-of-type {\n",
       "        vertical-align: middle;\n",
       "    }\n",
       "\n",
       "    .dataframe tbody tr th {\n",
       "        vertical-align: top;\n",
       "    }\n",
       "\n",
       "    .dataframe thead th {\n",
       "        text-align: right;\n",
       "    }\n",
       "</style>\n",
       "<table border=\"1\" class=\"dataframe\">\n",
       "  <thead>\n",
       "    <tr style=\"text-align: right;\">\n",
       "      <th></th>\n",
       "      <th>Produto</th>\n",
       "      <th>Idade</th>\n",
       "      <th>Sexo</th>\n",
       "      <th>Educacao</th>\n",
       "      <th>EstadoCivil</th>\n",
       "      <th>Uso</th>\n",
       "      <th>CondicionamentoFisico</th>\n",
       "      <th>Renda</th>\n",
       "      <th>Milhas</th>\n",
       "    </tr>\n",
       "  </thead>\n",
       "  <tbody>\n",
       "    <tr>\n",
       "      <th>0</th>\n",
       "      <td>TM195</td>\n",
       "      <td>18</td>\n",
       "      <td>Masculino</td>\n",
       "      <td>14</td>\n",
       "      <td>Solteiro</td>\n",
       "      <td>3</td>\n",
       "      <td>4</td>\n",
       "      <td>29562</td>\n",
       "      <td>112</td>\n",
       "    </tr>\n",
       "    <tr>\n",
       "      <th>1</th>\n",
       "      <td>TM195</td>\n",
       "      <td>19</td>\n",
       "      <td>Masculino</td>\n",
       "      <td>15</td>\n",
       "      <td>Solteiro</td>\n",
       "      <td>2</td>\n",
       "      <td>3</td>\n",
       "      <td>31836</td>\n",
       "      <td>75</td>\n",
       "    </tr>\n",
       "    <tr>\n",
       "      <th>2</th>\n",
       "      <td>TM195</td>\n",
       "      <td>19</td>\n",
       "      <td>Feminino</td>\n",
       "      <td>14</td>\n",
       "      <td>Casado</td>\n",
       "      <td>4</td>\n",
       "      <td>3</td>\n",
       "      <td>30699</td>\n",
       "      <td>66</td>\n",
       "    </tr>\n",
       "    <tr>\n",
       "      <th>3</th>\n",
       "      <td>TM195</td>\n",
       "      <td>19</td>\n",
       "      <td>Masculino</td>\n",
       "      <td>12</td>\n",
       "      <td>Solteiro</td>\n",
       "      <td>3</td>\n",
       "      <td>3</td>\n",
       "      <td>32973</td>\n",
       "      <td>85</td>\n",
       "    </tr>\n",
       "    <tr>\n",
       "      <th>4</th>\n",
       "      <td>TM195</td>\n",
       "      <td>20</td>\n",
       "      <td>Masculino</td>\n",
       "      <td>13</td>\n",
       "      <td>Casado</td>\n",
       "      <td>4</td>\n",
       "      <td>2</td>\n",
       "      <td>35247</td>\n",
       "      <td>47</td>\n",
       "    </tr>\n",
       "    <tr>\n",
       "      <th>...</th>\n",
       "      <td>...</td>\n",
       "      <td>...</td>\n",
       "      <td>...</td>\n",
       "      <td>...</td>\n",
       "      <td>...</td>\n",
       "      <td>...</td>\n",
       "      <td>...</td>\n",
       "      <td>...</td>\n",
       "      <td>...</td>\n",
       "    </tr>\n",
       "    <tr>\n",
       "      <th>175</th>\n",
       "      <td>TM798</td>\n",
       "      <td>40</td>\n",
       "      <td>Masculino</td>\n",
       "      <td>21</td>\n",
       "      <td>Solteiro</td>\n",
       "      <td>6</td>\n",
       "      <td>5</td>\n",
       "      <td>83416</td>\n",
       "      <td>200</td>\n",
       "    </tr>\n",
       "    <tr>\n",
       "      <th>176</th>\n",
       "      <td>TM798</td>\n",
       "      <td>42</td>\n",
       "      <td>Masculino</td>\n",
       "      <td>18</td>\n",
       "      <td>Solteiro</td>\n",
       "      <td>5</td>\n",
       "      <td>4</td>\n",
       "      <td>89641</td>\n",
       "      <td>200</td>\n",
       "    </tr>\n",
       "    <tr>\n",
       "      <th>177</th>\n",
       "      <td>TM798</td>\n",
       "      <td>45</td>\n",
       "      <td>Masculino</td>\n",
       "      <td>16</td>\n",
       "      <td>Solteiro</td>\n",
       "      <td>5</td>\n",
       "      <td>5</td>\n",
       "      <td>90886</td>\n",
       "      <td>160</td>\n",
       "    </tr>\n",
       "    <tr>\n",
       "      <th>178</th>\n",
       "      <td>TM798</td>\n",
       "      <td>47</td>\n",
       "      <td>Masculino</td>\n",
       "      <td>18</td>\n",
       "      <td>Casado</td>\n",
       "      <td>4</td>\n",
       "      <td>5</td>\n",
       "      <td>104581</td>\n",
       "      <td>120</td>\n",
       "    </tr>\n",
       "    <tr>\n",
       "      <th>179</th>\n",
       "      <td>TM798</td>\n",
       "      <td>48</td>\n",
       "      <td>Masculino</td>\n",
       "      <td>18</td>\n",
       "      <td>Casado</td>\n",
       "      <td>4</td>\n",
       "      <td>5</td>\n",
       "      <td>95508</td>\n",
       "      <td>180</td>\n",
       "    </tr>\n",
       "  </tbody>\n",
       "</table>\n",
       "<p>180 rows × 9 columns</p>\n",
       "</div>"
      ],
      "text/plain": [
       "    Produto  Idade       Sexo  Educacao EstadoCivil  Uso  \\\n",
       "0     TM195     18  Masculino        14    Solteiro    3   \n",
       "1     TM195     19  Masculino        15    Solteiro    2   \n",
       "2     TM195     19   Feminino        14      Casado    4   \n",
       "3     TM195     19  Masculino        12    Solteiro    3   \n",
       "4     TM195     20  Masculino        13      Casado    4   \n",
       "..      ...    ...        ...       ...         ...  ...   \n",
       "175   TM798     40  Masculino        21    Solteiro    6   \n",
       "176   TM798     42  Masculino        18    Solteiro    5   \n",
       "177   TM798     45  Masculino        16    Solteiro    5   \n",
       "178   TM798     47  Masculino        18      Casado    4   \n",
       "179   TM798     48  Masculino        18      Casado    4   \n",
       "\n",
       "     CondicionamentoFisico   Renda  Milhas  \n",
       "0                        4   29562     112  \n",
       "1                        3   31836      75  \n",
       "2                        3   30699      66  \n",
       "3                        3   32973      85  \n",
       "4                        2   35247      47  \n",
       "..                     ...     ...     ...  \n",
       "175                      5   83416     200  \n",
       "176                      4   89641     200  \n",
       "177                      5   90886     160  \n",
       "178                      5  104581     120  \n",
       "179                      5   95508     180  \n",
       "\n",
       "[180 rows x 9 columns]"
      ]
     },
     "metadata": {},
     "output_type": "display_data"
    }
   ],
   "source": [
    "cardio = pd.read_csv(\"cardio.csv\")\n",
    "\n",
    "display(cardio)"
   ]
  },
  {
   "cell_type": "markdown",
   "id": "b2537746",
   "metadata": {},
   "source": [
    "## Informação geral dos dados"
   ]
  },
  {
   "cell_type": "code",
   "execution_count": 7,
   "id": "4fe83d27",
   "metadata": {},
   "outputs": [
    {
     "data": {
      "text/html": [
       "<div>\n",
       "<style scoped>\n",
       "    .dataframe tbody tr th:only-of-type {\n",
       "        vertical-align: middle;\n",
       "    }\n",
       "\n",
       "    .dataframe tbody tr th {\n",
       "        vertical-align: top;\n",
       "    }\n",
       "\n",
       "    .dataframe thead th {\n",
       "        text-align: right;\n",
       "    }\n",
       "</style>\n",
       "<table border=\"1\" class=\"dataframe\">\n",
       "  <thead>\n",
       "    <tr style=\"text-align: right;\">\n",
       "      <th></th>\n",
       "      <th>Produto</th>\n",
       "      <th>Idade</th>\n",
       "      <th>Sexo</th>\n",
       "      <th>Educacao</th>\n",
       "      <th>EstadoCivil</th>\n",
       "      <th>Uso</th>\n",
       "      <th>CondicionamentoFisico</th>\n",
       "      <th>Renda</th>\n",
       "      <th>Milhas</th>\n",
       "    </tr>\n",
       "  </thead>\n",
       "  <tbody>\n",
       "    <tr>\n",
       "      <th>count</th>\n",
       "      <td>180</td>\n",
       "      <td>180.000000</td>\n",
       "      <td>180</td>\n",
       "      <td>180.000000</td>\n",
       "      <td>180</td>\n",
       "      <td>180.000000</td>\n",
       "      <td>180.000000</td>\n",
       "      <td>180.000000</td>\n",
       "      <td>180.000000</td>\n",
       "    </tr>\n",
       "    <tr>\n",
       "      <th>unique</th>\n",
       "      <td>3</td>\n",
       "      <td>NaN</td>\n",
       "      <td>2</td>\n",
       "      <td>NaN</td>\n",
       "      <td>2</td>\n",
       "      <td>NaN</td>\n",
       "      <td>NaN</td>\n",
       "      <td>NaN</td>\n",
       "      <td>NaN</td>\n",
       "    </tr>\n",
       "    <tr>\n",
       "      <th>top</th>\n",
       "      <td>TM195</td>\n",
       "      <td>NaN</td>\n",
       "      <td>Masculino</td>\n",
       "      <td>NaN</td>\n",
       "      <td>Casado</td>\n",
       "      <td>NaN</td>\n",
       "      <td>NaN</td>\n",
       "      <td>NaN</td>\n",
       "      <td>NaN</td>\n",
       "    </tr>\n",
       "    <tr>\n",
       "      <th>freq</th>\n",
       "      <td>80</td>\n",
       "      <td>NaN</td>\n",
       "      <td>104</td>\n",
       "      <td>NaN</td>\n",
       "      <td>107</td>\n",
       "      <td>NaN</td>\n",
       "      <td>NaN</td>\n",
       "      <td>NaN</td>\n",
       "      <td>NaN</td>\n",
       "    </tr>\n",
       "    <tr>\n",
       "      <th>mean</th>\n",
       "      <td>NaN</td>\n",
       "      <td>28.788889</td>\n",
       "      <td>NaN</td>\n",
       "      <td>15.572222</td>\n",
       "      <td>NaN</td>\n",
       "      <td>3.455556</td>\n",
       "      <td>3.311111</td>\n",
       "      <td>53719.577778</td>\n",
       "      <td>103.194444</td>\n",
       "    </tr>\n",
       "    <tr>\n",
       "      <th>std</th>\n",
       "      <td>NaN</td>\n",
       "      <td>6.943498</td>\n",
       "      <td>NaN</td>\n",
       "      <td>1.617055</td>\n",
       "      <td>NaN</td>\n",
       "      <td>1.084797</td>\n",
       "      <td>0.958869</td>\n",
       "      <td>16506.684226</td>\n",
       "      <td>51.863605</td>\n",
       "    </tr>\n",
       "    <tr>\n",
       "      <th>min</th>\n",
       "      <td>NaN</td>\n",
       "      <td>18.000000</td>\n",
       "      <td>NaN</td>\n",
       "      <td>12.000000</td>\n",
       "      <td>NaN</td>\n",
       "      <td>2.000000</td>\n",
       "      <td>1.000000</td>\n",
       "      <td>29562.000000</td>\n",
       "      <td>21.000000</td>\n",
       "    </tr>\n",
       "    <tr>\n",
       "      <th>25%</th>\n",
       "      <td>NaN</td>\n",
       "      <td>24.000000</td>\n",
       "      <td>NaN</td>\n",
       "      <td>14.000000</td>\n",
       "      <td>NaN</td>\n",
       "      <td>3.000000</td>\n",
       "      <td>3.000000</td>\n",
       "      <td>44058.750000</td>\n",
       "      <td>66.000000</td>\n",
       "    </tr>\n",
       "    <tr>\n",
       "      <th>50%</th>\n",
       "      <td>NaN</td>\n",
       "      <td>26.000000</td>\n",
       "      <td>NaN</td>\n",
       "      <td>16.000000</td>\n",
       "      <td>NaN</td>\n",
       "      <td>3.000000</td>\n",
       "      <td>3.000000</td>\n",
       "      <td>50596.500000</td>\n",
       "      <td>94.000000</td>\n",
       "    </tr>\n",
       "    <tr>\n",
       "      <th>75%</th>\n",
       "      <td>NaN</td>\n",
       "      <td>33.000000</td>\n",
       "      <td>NaN</td>\n",
       "      <td>16.000000</td>\n",
       "      <td>NaN</td>\n",
       "      <td>4.000000</td>\n",
       "      <td>4.000000</td>\n",
       "      <td>58668.000000</td>\n",
       "      <td>114.750000</td>\n",
       "    </tr>\n",
       "    <tr>\n",
       "      <th>max</th>\n",
       "      <td>NaN</td>\n",
       "      <td>50.000000</td>\n",
       "      <td>NaN</td>\n",
       "      <td>21.000000</td>\n",
       "      <td>NaN</td>\n",
       "      <td>7.000000</td>\n",
       "      <td>5.000000</td>\n",
       "      <td>104581.000000</td>\n",
       "      <td>360.000000</td>\n",
       "    </tr>\n",
       "  </tbody>\n",
       "</table>\n",
       "</div>"
      ],
      "text/plain": [
       "       Produto       Idade       Sexo    Educacao EstadoCivil         Uso  \\\n",
       "count      180  180.000000        180  180.000000         180  180.000000   \n",
       "unique       3         NaN          2         NaN           2         NaN   \n",
       "top      TM195         NaN  Masculino         NaN      Casado         NaN   \n",
       "freq        80         NaN        104         NaN         107         NaN   \n",
       "mean       NaN   28.788889        NaN   15.572222         NaN    3.455556   \n",
       "std        NaN    6.943498        NaN    1.617055         NaN    1.084797   \n",
       "min        NaN   18.000000        NaN   12.000000         NaN    2.000000   \n",
       "25%        NaN   24.000000        NaN   14.000000         NaN    3.000000   \n",
       "50%        NaN   26.000000        NaN   16.000000         NaN    3.000000   \n",
       "75%        NaN   33.000000        NaN   16.000000         NaN    4.000000   \n",
       "max        NaN   50.000000        NaN   21.000000         NaN    7.000000   \n",
       "\n",
       "        CondicionamentoFisico          Renda      Milhas  \n",
       "count              180.000000     180.000000  180.000000  \n",
       "unique                    NaN            NaN         NaN  \n",
       "top                       NaN            NaN         NaN  \n",
       "freq                      NaN            NaN         NaN  \n",
       "mean                 3.311111   53719.577778  103.194444  \n",
       "std                  0.958869   16506.684226   51.863605  \n",
       "min                  1.000000   29562.000000   21.000000  \n",
       "25%                  3.000000   44058.750000   66.000000  \n",
       "50%                  3.000000   50596.500000   94.000000  \n",
       "75%                  4.000000   58668.000000  114.750000  \n",
       "max                  5.000000  104581.000000  360.000000  "
      ]
     },
     "execution_count": 7,
     "metadata": {},
     "output_type": "execute_result"
    }
   ],
   "source": [
    "cardio.describe(include=\"all\")"
   ]
  },
  {
   "cell_type": "code",
   "execution_count": 9,
   "id": "a7254b9f",
   "metadata": {
    "scrolled": false
   },
   "outputs": [
    {
     "data": {
      "text/plain": [
       "array([[<AxesSubplot:title={'center':'Idade'}>,\n",
       "        <AxesSubplot:title={'center':'Educacao'}>],\n",
       "       [<AxesSubplot:title={'center':'Uso'}>,\n",
       "        <AxesSubplot:title={'center':'CondicionamentoFisico'}>],\n",
       "       [<AxesSubplot:title={'center':'Renda'}>,\n",
       "        <AxesSubplot:title={'center':'Milhas'}>]], dtype=object)"
      ]
     },
     "execution_count": 9,
     "metadata": {},
     "output_type": "execute_result"
    },
    {
     "data": {
      "image/png": "[encoded data removed]",
      "text/plain": [
       "<Figure size 1440x2160 with 6 Axes>"
      ]
     },
     "metadata": {
      "needs_background": "light"
     },
     "output_type": "display_data"
    }
   ],
   "source": [
    "cardio.hist(figsize=(20,30))"
   ]
  },
  {
   "cell_type": "markdown",
   "id": "9f47cc46",
   "metadata": {},
   "source": [
    "## Análise qualitativa"
   ]
  },
  {
   "cell_type": "code",
   "execution_count": 13,
   "id": "41d32830",
   "metadata": {},
   "outputs": [
    {
     "data": {
      "text/html": [
       "<div>\n",
       "<style scoped>\n",
       "    .dataframe tbody tr th:only-of-type {\n",
       "        vertical-align: middle;\n",
       "    }\n",
       "\n",
       "    .dataframe tbody tr th {\n",
       "        vertical-align: top;\n",
       "    }\n",
       "\n",
       "    .dataframe thead th {\n",
       "        text-align: right;\n",
       "    }\n",
       "</style>\n",
       "<table border=\"1\" class=\"dataframe\">\n",
       "  <thead>\n",
       "    <tr style=\"text-align: right;\">\n",
       "      <th>Sexo</th>\n",
       "      <th>Feminino</th>\n",
       "      <th>Masculino</th>\n",
       "    </tr>\n",
       "    <tr>\n",
       "      <th>Produto</th>\n",
       "      <th></th>\n",
       "      <th></th>\n",
       "    </tr>\n",
       "  </thead>\n",
       "  <tbody>\n",
       "    <tr>\n",
       "      <th>TM195</th>\n",
       "      <td>40</td>\n",
       "      <td>40</td>\n",
       "    </tr>\n",
       "    <tr>\n",
       "      <th>TM498</th>\n",
       "      <td>29</td>\n",
       "      <td>31</td>\n",
       "    </tr>\n",
       "    <tr>\n",
       "      <th>TM798</th>\n",
       "      <td>7</td>\n",
       "      <td>33</td>\n",
       "    </tr>\n",
       "  </tbody>\n",
       "</table>\n",
       "</div>"
      ],
      "text/plain": [
       "Sexo     Feminino  Masculino\n",
       "Produto                     \n",
       "TM195          40         40\n",
       "TM498          29         31\n",
       "TM798           7         33"
      ]
     },
     "execution_count": 13,
     "metadata": {},
     "output_type": "execute_result"
    }
   ],
   "source": [
    "pd.crosstab(cardio[\"Produto\"], cardio[\"Sexo\"])"
   ]
  },
  {
   "cell_type": "code",
   "execution_count": 16,
   "id": "99d1da0f",
   "metadata": {},
   "outputs": [
    {
     "data": {
      "text/plain": [
       "<AxesSubplot:xlabel='Produto', ylabel='count'>"
      ]
     },
     "execution_count": 16,
     "metadata": {},
     "output_type": "execute_result"
    },
    {
     "data": {
      "image/png": "[encoded data removed]",
      "text/plain": [
       "<Figure size 432x288 with 1 Axes>"
      ]
     },
     "metadata": {
      "needs_background": "light"
     },
     "output_type": "display_data"
    }
   ],
   "source": [
    "sns.countplot(x=\"Produto\", hue=\"Sexo\", data=cardio)"
   ]
  },
  {
   "cell_type": "code",
   "execution_count": 14,
   "id": "487d3952",
   "metadata": {},
   "outputs": [
    {
     "data": {
      "text/html": [
       "<div>\n",
       "<style scoped>\n",
       "    .dataframe tbody tr th:only-of-type {\n",
       "        vertical-align: middle;\n",
       "    }\n",
       "\n",
       "    .dataframe tbody tr th {\n",
       "        vertical-align: top;\n",
       "    }\n",
       "\n",
       "    .dataframe thead th {\n",
       "        text-align: right;\n",
       "    }\n",
       "</style>\n",
       "<table border=\"1\" class=\"dataframe\">\n",
       "  <thead>\n",
       "    <tr style=\"text-align: right;\">\n",
       "      <th>EstadoCivil</th>\n",
       "      <th>Casado</th>\n",
       "      <th>Solteiro</th>\n",
       "    </tr>\n",
       "    <tr>\n",
       "      <th>Produto</th>\n",
       "      <th></th>\n",
       "      <th></th>\n",
       "    </tr>\n",
       "  </thead>\n",
       "  <tbody>\n",
       "    <tr>\n",
       "      <th>TM195</th>\n",
       "      <td>48</td>\n",
       "      <td>32</td>\n",
       "    </tr>\n",
       "    <tr>\n",
       "      <th>TM498</th>\n",
       "      <td>36</td>\n",
       "      <td>24</td>\n",
       "    </tr>\n",
       "    <tr>\n",
       "      <th>TM798</th>\n",
       "      <td>23</td>\n",
       "      <td>17</td>\n",
       "    </tr>\n",
       "  </tbody>\n",
       "</table>\n",
       "</div>"
      ],
      "text/plain": [
       "EstadoCivil  Casado  Solteiro\n",
       "Produto                      \n",
       "TM195            48        32\n",
       "TM498            36        24\n",
       "TM798            23        17"
      ]
     },
     "execution_count": 14,
     "metadata": {},
     "output_type": "execute_result"
    }
   ],
   "source": [
    "pd.crosstab(cardio[\"Produto\"], cardio[\"EstadoCivil\"])"
   ]
  },
  {
   "cell_type": "code",
   "execution_count": 21,
   "id": "4daaca02",
   "metadata": {},
   "outputs": [
    {
     "data": {
      "text/plain": [
       "<AxesSubplot:xlabel='EstadoCivil', ylabel='count'>"
      ]
     },
     "execution_count": 21,
     "metadata": {},
     "output_type": "execute_result"
    },
    {
     "data": {
      "image/png": "[encoded data removed]",
      "text/plain": [
       "<Figure size 432x288 with 1 Axes>"
      ]
     },
     "metadata": {
      "needs_background": "light"
     },
     "output_type": "display_data"
    }
   ],
   "source": [
    "sns.countplot(x=\"EstadoCivil\", hue=\"Produto\", data=cardio)"
   ]
  },
  {
   "cell_type": "code",
   "execution_count": 15,
   "id": "34c29bc1",
   "metadata": {},
   "outputs": [
    {
     "data": {
      "text/html": [
       "<div>\n",
       "<style scoped>\n",
       "    .dataframe tbody tr th:only-of-type {\n",
       "        vertical-align: middle;\n",
       "    }\n",
       "\n",
       "    .dataframe tbody tr th {\n",
       "        vertical-align: top;\n",
       "    }\n",
       "\n",
       "    .dataframe thead th {\n",
       "        text-align: right;\n",
       "    }\n",
       "</style>\n",
       "<table border=\"1\" class=\"dataframe\">\n",
       "  <thead>\n",
       "    <tr style=\"text-align: right;\">\n",
       "      <th>EstadoCivil</th>\n",
       "      <th>Casado</th>\n",
       "      <th>Solteiro</th>\n",
       "    </tr>\n",
       "    <tr>\n",
       "      <th>Sexo</th>\n",
       "      <th></th>\n",
       "      <th></th>\n",
       "    </tr>\n",
       "  </thead>\n",
       "  <tbody>\n",
       "    <tr>\n",
       "      <th>Feminino</th>\n",
       "      <td>46</td>\n",
       "      <td>30</td>\n",
       "    </tr>\n",
       "    <tr>\n",
       "      <th>Masculino</th>\n",
       "      <td>61</td>\n",
       "      <td>43</td>\n",
       "    </tr>\n",
       "  </tbody>\n",
       "</table>\n",
       "</div>"
      ],
      "text/plain": [
       "EstadoCivil  Casado  Solteiro\n",
       "Sexo                         \n",
       "Feminino         46        30\n",
       "Masculino        61        43"
      ]
     },
     "execution_count": 15,
     "metadata": {},
     "output_type": "execute_result"
    }
   ],
   "source": [
    "pd.crosstab(cardio[\"Sexo\"], cardio[\"EstadoCivil\"])"
   ]
  },
  {
   "cell_type": "code",
   "execution_count": 19,
   "id": "b11f9380",
   "metadata": {},
   "outputs": [
    {
     "data": {
      "text/plain": [
       "<AxesSubplot:xlabel='EstadoCivil', ylabel='count'>"
      ]
     },
     "execution_count": 19,
     "metadata": {},
     "output_type": "execute_result"
    },
    {
     "data": {
      "image/png": "[encoded data removed]",
      "text/plain": [
       "<Figure size 432x288 with 1 Axes>"
      ]
     },
     "metadata": {
      "needs_background": "light"
     },
     "output_type": "display_data"
    }
   ],
   "source": [
    "sns.countplot(x=\"EstadoCivil\", hue=\"Sexo\", data=cardio)"
   ]
  },
  {
   "cell_type": "markdown",
   "id": "2f209b1d",
   "metadata": {},
   "source": [
    "## Correlação de dados"
   ]
  },
  {
   "cell_type": "code",
   "execution_count": 24,
   "id": "632868a1",
   "metadata": {},
   "outputs": [
    {
     "data": {
      "text/plain": [
       "<AxesSubplot:>"
      ]
     },
     "execution_count": 24,
     "metadata": {},
     "output_type": "execute_result"
    },
    {
     "data": {
      "image/png": "[encoded data removed]",
      "text/plain": [
       "<Figure size 432x288 with 2 Axes>"
      ]
     },
     "metadata": {
      "needs_background": "light"
     },
     "output_type": "display_data"
    }
   ],
   "source": [
    "sns.heatmap(cardio.corr(), annot=True)"
   ]
  },
  {
   "cell_type": "markdown",
   "id": "c050a08b",
   "metadata": {},
   "source": [
    "## Considerações\n",
    "\n",
    "### Informação Geral dos Dados\n",
    "* O produto mais vendido é o TM195\n",
    "* A maioria dos consumidores são homens \n",
    "* A maioria dos clientes são casados\n",
    "* A maioria dos consumidores possuem entre 20 e 27 anos\n",
    "* A maioria dos consumidores possuem cerca de 16 anos de educação\n",
    "* A maioria dos consumidores utilizam o smartwatch por 3-4 dias/semana\n",
    "* A maioria dos consumidores possui um índice de cond. fis. de 3.0-3.5\n",
    "* A maioria dos consumidores possui uma renda de 45.000-60.000\n",
    "* A maioria dos consumidores correm de 50-100 milhas\n",
    "* **Coumidor geral baseado nos dados, médias e medianas**\n",
    "    * Homem \n",
    "    * Casado \n",
    "    * 26 anos \n",
    "    * 16 anos de estudo \n",
    "    * Renda de 50.600\n",
    "    * Comprando o TM195\n",
    "    * Uso de 3 dias/semana\n",
    "    * Cond. Fis. de 3\n",
    "    * Correndo 94 milhas\n",
    "    \n",
    "### Análise Qualitativa\n",
    "* O produto TM195 possui público misto\n",
    "* O produto TM498 é mais comum entre os homens\n",
    "* O produto TM798 extremamente consumido pelas mulheres\n",
    "* Todos os produtos são mais consumidos por casados\n",
    "* A maioria dos consumidores, homens e mulheres, são casados\n",
    "\n",
    "### Correlação de dados\n",
    "* **Constatações**\n",
    "    * Usuários mais ativos correm mais milhas e possuem melhor condicionamento\n",
    "    * Pessoas com um melhor condicionamento possuem uma performance melhor na corrida\n",
    "    * Indivíduos com melhor renda possuem maior grau de educação\n",
    "* **Indícios**\n",
    "    * Pessoas mais novas tendem a usar mais o Smartwatch\n",
    "    * Possuidores de maior renda tendem a possuir maior uso, quantidade de milhas e melhor condicionamento\n",
    "    * Pessoas mais velhas tendem a ter uma renda maior\n",
    "    \n",
    "## Recomendações Primordiais\n",
    "* Fazer linha do TM798 específica para as mulheres\n",
    "* Focar no público de casados\n",
    "* Divulgar e fazer marketing com os resultados físicos relacionados ao tempo de uso com o produto"
   ]
  }
 ],
 "metadata": {
  "kernelspec": {
   "display_name": "Python 3",
   "language": "python",
   "name": "python3"
  },
  "language_info": {
   "codemirror_mode": {
    "name": "ipython",
    "version": 3
   },
   "file_extension": ".py",
   "mimetype": "text/x-python",
   "name": "python",
   "nbconvert_exporter": "python",
   "pygments_lexer": "ipython3",
   "version": "3.8.8"
  }
 },
 "nbformat": 4,
 "nbformat_minor": 5
}
